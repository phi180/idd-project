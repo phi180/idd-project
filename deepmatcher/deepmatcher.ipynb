{
 "cells": [
  {
   "cell_type": "code",
   "execution_count": 1,
   "metadata": {},
   "outputs": [],
   "source": [
    "try:\n",
    "    import deepmatcher\n",
    "except:\n",
    "    !pip install -qqq deepmatcher"
   ]
  },
  {
   "cell_type": "code",
   "execution_count": 2,
   "metadata": {},
   "outputs": [
    {
     "name": "stdout",
     "output_type": "stream",
     "text": [
      "Defaulting to user installation because normal site-packages is not writeable\n",
      "Requirement already satisfied: torchtext==0.11.0 in c:\\users\\fippi\\appdata\\roaming\\python\\python39\\site-packages (0.11.0)\n",
      "Requirement already satisfied: torch==1.10.0 in c:\\users\\fippi\\appdata\\roaming\\python\\python39\\site-packages (from torchtext==0.11.0) (1.10.0+cu102)\n",
      "Requirement already satisfied: tqdm in c:\\programdata\\anaconda3\\lib\\site-packages (from torchtext==0.11.0) (4.64.1)\n",
      "Requirement already satisfied: numpy in c:\\programdata\\anaconda3\\lib\\site-packages (from torchtext==0.11.0) (1.21.5)\n",
      "Requirement already satisfied: requests in c:\\programdata\\anaconda3\\lib\\site-packages (from torchtext==0.11.0) (2.28.1)\n",
      "Requirement already satisfied: typing-extensions in c:\\programdata\\anaconda3\\lib\\site-packages (from torch==1.10.0->torchtext==0.11.0) (4.3.0)\n",
      "Requirement already satisfied: idna<4,>=2.5 in c:\\programdata\\anaconda3\\lib\\site-packages (from requests->torchtext==0.11.0) (3.3)\n",
      "Requirement already satisfied: certifi>=2017.4.17 in c:\\programdata\\anaconda3\\lib\\site-packages (from requests->torchtext==0.11.0) (2022.9.14)\n",
      "Requirement already satisfied: urllib3<1.27,>=1.21.1 in c:\\programdata\\anaconda3\\lib\\site-packages (from requests->torchtext==0.11.0) (1.26.11)\n",
      "Requirement already satisfied: charset-normalizer<3,>=2 in c:\\programdata\\anaconda3\\lib\\site-packages (from requests->torchtext==0.11.0) (2.0.4)\n",
      "Requirement already satisfied: colorama in c:\\programdata\\anaconda3\\lib\\site-packages (from tqdm->torchtext==0.11.0) (0.4.5)\n"
     ]
    }
   ],
   "source": [
    "!pip install torchtext==0.11.0"
   ]
  },
  {
   "cell_type": "code",
   "execution_count": 3,
   "metadata": {},
   "outputs": [],
   "source": [
    "#!pip install pandas"
   ]
  },
  {
   "cell_type": "code",
   "execution_count": 4,
   "metadata": {},
   "outputs": [
    {
     "name": "stdout",
     "output_type": "stream",
     "text": [
      "Defaulting to user installation because normal site-packages is not writeable\n",
      "Looking in links: https://download.pytorch.org/whl/cu102/torch_stable.html\n",
      "Requirement already satisfied: torch==1.10.0+cu102 in c:\\users\\fippi\\appdata\\roaming\\python\\python39\\site-packages (1.10.0+cu102)\n",
      "Requirement already satisfied: typing-extensions in c:\\programdata\\anaconda3\\lib\\site-packages (from torch==1.10.0+cu102) (4.3.0)\n"
     ]
    }
   ],
   "source": [
    "!pip install torch==1.10.0+cu102 -f https://download.pytorch.org/whl/cu102/torch_stable.html"
   ]
  },
  {
   "cell_type": "code",
   "execution_count": 7,
   "metadata": {},
   "outputs": [],
   "source": [
    "import deepmatcher as dm"
   ]
  },
  {
   "cell_type": "code",
   "execution_count": 6,
   "metadata": {},
   "outputs": [],
   "source": [
    "import pandas as pd\n",
    "from pathlib import Path\n",
    "\n",
    "data = pd.read_csv('dataset/train.csv')\n",
    "\n",
    "filepath = Path('dataset/train.csv')\n",
    "filepath.parent.mkdir(parents=True, exist_ok=True)\n",
    "data.to_csv(filepath, index=False)\n",
    "\n",
    "data = pd.read_csv('dataset/validation.csv')\n",
    "\n",
    "filepath = Path('dataset/validation.csv')\n",
    "filepath.parent.mkdir(parents=True, exist_ok=True)\n",
    "data.to_csv(filepath, index=False)\n",
    "\n",
    "data = pd.read_csv('dataset/test.csv')\n",
    "filepath = Path('dataset/test.csv')\n",
    "filepath.parent.mkdir(parents=True, exist_ok=True)\n",
    "data.to_csv(filepath, index=False)"
   ]
  },
  {
   "cell_type": "code",
   "execution_count": 7,
   "metadata": {},
   "outputs": [
    {
     "name": "stderr",
     "output_type": "stream",
     "text": [
      "WARNING:deepmatcher.data.dataset:Rebuilding data cache because: ['One or more data files have been modified.']\n",
      "\n",
      "Reading and processing data from \"dataset/train.csv\"\n",
      "0% [############################  ] 100% | ETA: 00:00:02\n",
      "Reading and processing data from \"dataset/validation.csv\"\n",
      "0% [############################  ] 100% | ETA: 00:00:00\n",
      "Reading and processing data from \"dataset/test.csv\"\n",
      "0% [############################# ] 100% | ETA: 00:00:00Warning : `load_model` does not return WordVectorModel or SupervisedModel any more, but a `FastText` object which is very similar.\n",
      "\n",
      "Building vocabulary\n",
      "0% [########################] 100% | ETA: 00:00:00\n",
      "Total time elapsed: 00:00:03\n",
      "\n",
      "Computing principal components\n",
      "0% [########################] 100% | ETA: 00:00:00\n",
      "Total time elapsed: 00:00:48\n"
     ]
    }
   ],
   "source": [
    "train, validation, test = dm.data.process(\n",
    "    path='dataset/',\n",
    "    train='train.csv',\n",
    "    validation='validation.csv',\n",
    "    test='test.csv')"
   ]
  },
  {
   "cell_type": "code",
   "execution_count": 8,
   "metadata": {},
   "outputs": [],
   "source": [
    "model = dm.MatchingModel(attr_summarizer='hybrid')"
   ]
  },
  {
   "cell_type": "code",
   "execution_count": null,
   "metadata": {
    "scrolled": true
   },
   "outputs": [
    {
     "name": "stderr",
     "output_type": "stream",
     "text": [
      "C:\\Users\\fippi\\AppData\\Roaming\\Python\\Python39\\site-packages\\torch\\nn\\modules\\module.py:1000: UserWarning: Using non-full backward hooks on a Module that does not take as input a single Tensor or a tuple of Tensors is deprecated and will be removed in future versions. This hook will be missing some of the grad_input. Please use register_full_backward_hook to get the documented behavior.\n",
      "  warnings.warn(\"Using non-full backward hooks on a Module that does not take as input a \"\n",
      "C:\\Users\\fippi\\AppData\\Roaming\\Python\\Python39\\site-packages\\torch\\nn\\modules\\module.py:1025: UserWarning: Using a non-full backward hook when the forward contains multiple autograd Nodes is deprecated and will be removed in future versions. This hook will be missing some grad_input. Please use register_full_backward_hook to get the documented behavior.\n",
      "  warnings.warn(\"Using a non-full backward hook when the forward contains multiple autograd Nodes \"\n"
     ]
    },
    {
     "name": "stdout",
     "output_type": "stream",
     "text": [
      "* Number of trainable parameters: 39727820\n",
      "===>  TRAIN Epoch 1\n"
     ]
    },
    {
     "name": "stderr",
     "output_type": "stream",
     "text": [
      "C:\\Users\\fippi\\AppData\\Roaming\\Python\\Python39\\site-packages\\torch\\nn\\modules\\module.py:990: UserWarning: Using non-full backward hooks on a Module that does not return a single Tensor or a tuple of Tensors is deprecated and will be removed in future versions. This hook will be missing some of the grad_output. Please use register_full_backward_hook to get the documented behavior.\n",
      "  warnings.warn(\"Using non-full backward hooks on a Module that does not return a \"\n",
      "C:\\Users\\fippi\\AppData\\Roaming\\Python\\Python39\\site-packages\\torch\\nn\\functional.py:2747: UserWarning: reduction: 'mean' divides the total loss by both the batch size and the support size.'batchmean' divides only by the batch size, and aligns with the KL div math definition.'mean' will be changed to behave the same as 'batchmean' in the next major release.\n",
      "  warnings.warn(\n",
      "0% [██████████████████████████████] 100% | ETA: 00:00:00\n",
      "Total time elapsed: 00:41:18\n"
     ]
    },
    {
     "name": "stdout",
     "output_type": "stream",
     "text": [
      "Finished Epoch 1 || Run Time: 2463.6 | Load Time:   20.7 || F1:  89.21 | Prec:  83.10 | Rec:  96.28 || Ex/s:   9.58\n",
      "\n",
      "===>  EVAL Epoch 1\n"
     ]
    },
    {
     "name": "stderr",
     "output_type": "stream",
     "text": [
      "0% [██████████████████████████████] 100% | ETA: 00:00:00\n",
      "Total time elapsed: 00:04:03\n"
     ]
    },
    {
     "name": "stdout",
     "output_type": "stream",
     "text": [
      "Finished Epoch 1 || Run Time:  239.1 | Load Time:    4.5 || F1:  92.63 | Prec:  90.03 | Rec:  95.39 || Ex/s:  27.92\n",
      "\n",
      "* Best F1: tensor(92.6316)\n",
      "Saving best model...\n",
      "Done.\n",
      "---------------------\n",
      "\n",
      "===>  TRAIN Epoch 2\n"
     ]
    },
    {
     "name": "stderr",
     "output_type": "stream",
     "text": [
      "0% [██████████████████████████████] 100% | ETA: 00:00:00\n",
      "Total time elapsed: 00:41:29\n"
     ]
    },
    {
     "name": "stdout",
     "output_type": "stream",
     "text": [
      "Finished Epoch 2 || Run Time: 2478.9 | Load Time:   17.8 || F1:  93.99 | Prec:  90.76 | Rec:  97.46 || Ex/s:   9.53\n",
      "\n",
      "===>  EVAL Epoch 2\n"
     ]
    },
    {
     "name": "stderr",
     "output_type": "stream",
     "text": [
      "0% [██████████████████████████████] 100% | ETA: 00:00:00\n",
      "Total time elapsed: 00:04:37\n"
     ]
    },
    {
     "name": "stdout",
     "output_type": "stream",
     "text": [
      "Finished Epoch 2 || Run Time:  272.1 | Load Time:    5.2 || F1:  92.80 | Prec:  89.77 | Rec:  96.04 || Ex/s:  24.53\n",
      "\n",
      "* Best F1: tensor(92.8023)\n",
      "Saving best model...\n",
      "Done.\n",
      "---------------------\n",
      "\n",
      "===>  TRAIN Epoch 3\n"
     ]
    },
    {
     "name": "stderr",
     "output_type": "stream",
     "text": [
      "0% [██████████████████████████████] 100% | ETA: 00:00:00\n",
      "Total time elapsed: 01:10:04\n"
     ]
    },
    {
     "name": "stdout",
     "output_type": "stream",
     "text": [
      "Finished Epoch 3 || Run Time: 4178.7 | Load Time:   31.9 || F1:  95.81 | Prec:  93.29 | Rec:  98.48 || Ex/s:   5.65\n",
      "\n",
      "===>  EVAL Epoch 3\n"
     ]
    },
    {
     "name": "stderr",
     "output_type": "stream",
     "text": [
      "0% [██████████████████████████████] 100% | ETA: 00:00:00\n",
      "Total time elapsed: 00:04:52\n"
     ]
    },
    {
     "name": "stdout",
     "output_type": "stream",
     "text": [
      "Finished Epoch 3 || Run Time:  287.2 | Load Time:    5.2 || F1:  92.33 | Prec:  88.80 | Rec:  96.14 || Ex/s:  23.26\n",
      "\n",
      "---------------------\n",
      "\n",
      "===>  TRAIN Epoch 4\n"
     ]
    },
    {
     "name": "stderr",
     "output_type": "stream",
     "text": [
      "0% [██████████████████████████████] 100% | ETA: 00:00:00\n",
      "Total time elapsed: 01:18:41\n"
     ]
    },
    {
     "name": "stdout",
     "output_type": "stream",
     "text": [
      "Finished Epoch 4 || Run Time: 4693.9 | Load Time:   33.0 || F1:  97.11 | Prec:  95.38 | Rec:  98.90 || Ex/s:   5.03\n",
      "\n",
      "===>  EVAL Epoch 4\n"
     ]
    },
    {
     "name": "stderr",
     "output_type": "stream",
     "text": [
      "0% [██████████████████████████████] 100% | ETA: 00:00:00\n",
      "Total time elapsed: 00:31:26\n"
     ]
    },
    {
     "name": "stdout",
     "output_type": "stream",
     "text": [
      "Finished Epoch 4 || Run Time: 1882.4 | Load Time:    4.3 || F1:  92.37 | Prec:  88.68 | Rec:  96.37 || Ex/s:   3.60\n",
      "\n",
      "---------------------\n",
      "\n",
      "===>  TRAIN Epoch 5\n"
     ]
    },
    {
     "name": "stderr",
     "output_type": "stream",
     "text": [
      "\r",
      "0% [█                             ] 100% | ETA: 00:34:15"
     ]
    }
   ],
   "source": [
    "model.run_train(\n",
    "    train,\n",
    "    validation,\n",
    "    epochs=3,\n",
    "    batch_size=16,\n",
    "    best_save_path='hybrid_model.pth',\n",
    "    pos_neg_ratio=3)"
   ]
  },
  {
   "cell_type": "code",
   "execution_count": 13,
   "metadata": {
    "scrolled": true
   },
   "outputs": [
    {
     "name": "stdout",
     "output_type": "stream",
     "text": [
      "===>  EVAL Epoch 5\n"
     ]
    },
    {
     "name": "stderr",
     "output_type": "stream",
     "text": [
      "0% [██████████████████████] 100% | ETA: 00:00:00\n",
      "Total time elapsed: 00:02:03\n"
     ]
    },
    {
     "name": "stdout",
     "output_type": "stream",
     "text": [
      "Finished Epoch 5 || Run Time:  119.3 | Load Time:    4.4 || F1:  92.91 | Prec:  91.49 | Rec:  94.38 || Ex/s:  28.53\n",
      "\n"
     ]
    },
    {
     "data": {
      "text/plain": [
       "tensor(92.9102)"
      ]
     },
     "execution_count": 13,
     "metadata": {},
     "output_type": "execute_result"
    }
   ],
   "source": [
    "model.run_eval(test)"
   ]
  },
  {
   "cell_type": "code",
   "execution_count": null,
   "metadata": {},
   "outputs": [],
   "source": [
    "mm = dm.MatchingModel()\n",
    "mm.save_state(path='model_state.pth')"
   ]
  },
  {
   "cell_type": "code",
   "execution_count": 12,
   "metadata": {},
   "outputs": [],
   "source": [
    "model = dm.MatchingModel()\n",
    "model.load_state(\"hybrid_model.pth\")"
   ]
  },
  {
   "cell_type": "code",
   "execution_count": 15,
   "metadata": {
    "scrolled": true
   },
   "outputs": [
    {
     "name": "stderr",
     "output_type": "stream",
     "text": [
      "\n",
      "Reading and processing data from \"dataset/sample.csv\"\n",
      "0% [######### ] 100% | ETA: 00:00:00"
     ]
    }
   ],
   "source": [
    "unlabeled = dm.data.process_unlabeled(\n",
    "    path='dataset/sample.csv',\n",
    "    trained_model=model)"
   ]
  },
  {
   "cell_type": "code",
   "execution_count": 9,
   "metadata": {},
   "outputs": [
    {
     "name": "stdout",
     "output_type": "stream",
     "text": [
      "===>  PREDICT Epoch 5\n"
     ]
    },
    {
     "name": "stderr",
     "output_type": "stream",
     "text": [
      "C:\\Users\\fippi\\AppData\\Roaming\\Python\\Python39\\site-packages\\torch\\nn\\modules\\module.py:990: UserWarning: Using non-full backward hooks on a Module that does not return a single Tensor or a tuple of Tensors is deprecated and will be removed in future versions. This hook will be missing some of the grad_output. Please use register_full_backward_hook to get the documented behavior.\n",
      "  warnings.warn(\"Using non-full backward hooks on a Module that does not return a \"\n"
     ]
    },
    {
     "name": "stdout",
     "output_type": "stream",
     "text": [
      "Finished Epoch 5 || Run Time:    1.3 | Load Time:    0.0 || F1:   0.00 | Prec:   0.00 | Rec:   0.00 || Ex/s:   0.00\n",
      "\n"
     ]
    },
    {
     "data": {
      "text/html": [
       "<div>\n",
       "<style scoped>\n",
       "    .dataframe tbody tr th:only-of-type {\n",
       "        vertical-align: middle;\n",
       "    }\n",
       "\n",
       "    .dataframe tbody tr th {\n",
       "        vertical-align: top;\n",
       "    }\n",
       "\n",
       "    .dataframe thead th {\n",
       "        text-align: right;\n",
       "    }\n",
       "</style>\n",
       "<table border=\"1\" class=\"dataframe\">\n",
       "  <thead>\n",
       "    <tr style=\"text-align: right;\">\n",
       "      <th></th>\n",
       "      <th>match_score</th>\n",
       "      <th>left_unique_id</th>\n",
       "      <th>right_unique_id</th>\n",
       "      <th>left_company_name</th>\n",
       "      <th>left_company_industry</th>\n",
       "      <th>left_company_location</th>\n",
       "      <th>left_company_founded</th>\n",
       "      <th>left_company_rank</th>\n",
       "      <th>left_company_country</th>\n",
       "      <th>left_company_revenue</th>\n",
       "      <th>...</th>\n",
       "      <th>right_company_ipo_code</th>\n",
       "      <th>right_company_facebook</th>\n",
       "      <th>right_company_twitter</th>\n",
       "      <th>right_company_instagram</th>\n",
       "      <th>right_company_website</th>\n",
       "      <th>right_company_employees</th>\n",
       "      <th>right_company_ceo</th>\n",
       "      <th>right_top_competitor</th>\n",
       "      <th>right_company_founder</th>\n",
       "      <th>right_company_ipo_year</th>\n",
       "    </tr>\n",
       "    <tr>\n",
       "      <th>id</th>\n",
       "      <th></th>\n",
       "      <th></th>\n",
       "      <th></th>\n",
       "      <th></th>\n",
       "      <th></th>\n",
       "      <th></th>\n",
       "      <th></th>\n",
       "      <th></th>\n",
       "      <th></th>\n",
       "      <th></th>\n",
       "      <th></th>\n",
       "      <th></th>\n",
       "      <th></th>\n",
       "      <th></th>\n",
       "      <th></th>\n",
       "      <th></th>\n",
       "      <th></th>\n",
       "      <th></th>\n",
       "      <th></th>\n",
       "      <th></th>\n",
       "      <th></th>\n",
       "    </tr>\n",
       "  </thead>\n",
       "  <tbody>\n",
       "    <tr>\n",
       "      <th>0</th>\n",
       "      <td>0.980005</td>\n",
       "      <td>1</td>\n",
       "      <td>97928</td>\n",
       "      <td>Accenture</td>\n",
       "      <td>IT Services &amp; Consulting</td>\n",
       "      <td>Dublin, Ireland</td>\n",
       "      <td>1989 (34 yrs old)</td>\n",
       "      <td>NaN</td>\n",
       "      <td>NaN</td>\n",
       "      <td>NaN</td>\n",
       "      <td>...</td>\n",
       "      <td>NaN</td>\n",
       "      <td>NaN</td>\n",
       "      <td>NaN</td>\n",
       "      <td>NaN</td>\n",
       "      <td>NaN</td>\n",
       "      <td>NaN</td>\n",
       "      <td>NaN</td>\n",
       "      <td>NaN</td>\n",
       "      <td>NaN</td>\n",
       "      <td>NaN</td>\n",
       "    </tr>\n",
       "    <tr>\n",
       "      <th>1</th>\n",
       "      <td>0.999750</td>\n",
       "      <td>2</td>\n",
       "      <td>98409</td>\n",
       "      <td>Cognizant</td>\n",
       "      <td>IT Services &amp; Consulting</td>\n",
       "      <td>Teaneck. New Jersey., United States (USA)</td>\n",
       "      <td>1994 (29 yrs old)</td>\n",
       "      <td>NaN</td>\n",
       "      <td>NaN</td>\n",
       "      <td>NaN</td>\n",
       "      <td>...</td>\n",
       "      <td>NaN</td>\n",
       "      <td>NaN</td>\n",
       "      <td>NaN</td>\n",
       "      <td>NaN</td>\n",
       "      <td>NaN</td>\n",
       "      <td>NaN</td>\n",
       "      <td>NaN</td>\n",
       "      <td>NaN</td>\n",
       "      <td>NaN</td>\n",
       "      <td>NaN</td>\n",
       "    </tr>\n",
       "    <tr>\n",
       "      <th>2</th>\n",
       "      <td>0.136511</td>\n",
       "      <td>3</td>\n",
       "      <td>99670</td>\n",
       "      <td>ICICI Bank</td>\n",
       "      <td>Banking</td>\n",
       "      <td>Mumbai, Maharashtra, India</td>\n",
       "      <td>1994 (29 yrs old)</td>\n",
       "      <td>NaN</td>\n",
       "      <td>NaN</td>\n",
       "      <td>NaN</td>\n",
       "      <td>...</td>\n",
       "      <td>NaN</td>\n",
       "      <td>NaN</td>\n",
       "      <td>NaN</td>\n",
       "      <td>NaN</td>\n",
       "      <td>NaN</td>\n",
       "      <td>NaN</td>\n",
       "      <td>NaN</td>\n",
       "      <td>NaN</td>\n",
       "      <td>NaN</td>\n",
       "      <td>NaN</td>\n",
       "    </tr>\n",
       "    <tr>\n",
       "      <th>3</th>\n",
       "      <td>0.977841</td>\n",
       "      <td>4</td>\n",
       "      <td>97978</td>\n",
       "      <td>HDFC Bank</td>\n",
       "      <td>Banking</td>\n",
       "      <td>Mumbai, Maharashtra, India</td>\n",
       "      <td>1994 (29 yrs old)</td>\n",
       "      <td>NaN</td>\n",
       "      <td>NaN</td>\n",
       "      <td>NaN</td>\n",
       "      <td>...</td>\n",
       "      <td>NaN</td>\n",
       "      <td>NaN</td>\n",
       "      <td>NaN</td>\n",
       "      <td>NaN</td>\n",
       "      <td>NaN</td>\n",
       "      <td>NaN</td>\n",
       "      <td>NaN</td>\n",
       "      <td>NaN</td>\n",
       "      <td>NaN</td>\n",
       "      <td>NaN</td>\n",
       "    </tr>\n",
       "    <tr>\n",
       "      <th>4</th>\n",
       "      <td>0.962459</td>\n",
       "      <td>5</td>\n",
       "      <td>98544</td>\n",
       "      <td>Wipro</td>\n",
       "      <td>IT Services &amp; Consulting</td>\n",
       "      <td>Bangalore/Bengaluru, Karnataka, India</td>\n",
       "      <td>1945 (78 yrs old)</td>\n",
       "      <td>NaN</td>\n",
       "      <td>NaN</td>\n",
       "      <td>NaN</td>\n",
       "      <td>...</td>\n",
       "      <td>NaN</td>\n",
       "      <td>NaN</td>\n",
       "      <td>NaN</td>\n",
       "      <td>NaN</td>\n",
       "      <td>NaN</td>\n",
       "      <td>NaN</td>\n",
       "      <td>NaN</td>\n",
       "      <td>NaN</td>\n",
       "      <td>NaN</td>\n",
       "      <td>NaN</td>\n",
       "    </tr>\n",
       "  </tbody>\n",
       "</table>\n",
       "<p>5 rows × 37 columns</p>\n",
       "</div>"
      ],
      "text/plain": [
       "    match_score  left_unique_id  right_unique_id left_company_name  \\\n",
       "id                                                                   \n",
       "0      0.980005               1            97928         Accenture   \n",
       "1      0.999750               2            98409         Cognizant   \n",
       "2      0.136511               3            99670        ICICI Bank   \n",
       "3      0.977841               4            97978         HDFC Bank   \n",
       "4      0.962459               5            98544             Wipro   \n",
       "\n",
       "       left_company_industry                      left_company_location  \\\n",
       "id                                                                        \n",
       "0   IT Services & Consulting                            Dublin, Ireland   \n",
       "1   IT Services & Consulting  Teaneck. New Jersey., United States (USA)   \n",
       "2                    Banking                 Mumbai, Maharashtra, India   \n",
       "3                    Banking                 Mumbai, Maharashtra, India   \n",
       "4   IT Services & Consulting      Bangalore/Bengaluru, Karnataka, India   \n",
       "\n",
       "   left_company_founded  left_company_rank  left_company_country  \\\n",
       "id                                                                 \n",
       "0     1989 (34 yrs old)                NaN                   NaN   \n",
       "1     1994 (29 yrs old)                NaN                   NaN   \n",
       "2     1994 (29 yrs old)                NaN                   NaN   \n",
       "3     1994 (29 yrs old)                NaN                   NaN   \n",
       "4     1945 (78 yrs old)                NaN                   NaN   \n",
       "\n",
       "    left_company_revenue  ...  right_company_ipo_code  right_company_facebook  \\\n",
       "id                        ...                                                   \n",
       "0                    NaN  ...                     NaN                     NaN   \n",
       "1                    NaN  ...                     NaN                     NaN   \n",
       "2                    NaN  ...                     NaN                     NaN   \n",
       "3                    NaN  ...                     NaN                     NaN   \n",
       "4                    NaN  ...                     NaN                     NaN   \n",
       "\n",
       "    right_company_twitter  right_company_instagram  right_company_website  \\\n",
       "id                                                                          \n",
       "0                     NaN                      NaN                    NaN   \n",
       "1                     NaN                      NaN                    NaN   \n",
       "2                     NaN                      NaN                    NaN   \n",
       "3                     NaN                      NaN                    NaN   \n",
       "4                     NaN                      NaN                    NaN   \n",
       "\n",
       "    right_company_employees  right_company_ceo  right_top_competitor  \\\n",
       "id                                                                     \n",
       "0                       NaN                NaN                   NaN   \n",
       "1                       NaN                NaN                   NaN   \n",
       "2                       NaN                NaN                   NaN   \n",
       "3                       NaN                NaN                   NaN   \n",
       "4                       NaN                NaN                   NaN   \n",
       "\n",
       "    right_company_founder  right_company_ipo_year  \n",
       "id                                                 \n",
       "0                     NaN                     NaN  \n",
       "1                     NaN                     NaN  \n",
       "2                     NaN                     NaN  \n",
       "3                     NaN                     NaN  \n",
       "4                     NaN                     NaN  \n",
       "\n",
       "[5 rows x 37 columns]"
      ]
     },
     "execution_count": 9,
     "metadata": {},
     "output_type": "execute_result"
    }
   ],
   "source": [
    "predictions = model.run_prediction(unlabeled, output_attributes=True)\n",
    "predictions.head()"
   ]
  },
  {
   "cell_type": "code",
   "execution_count": 10,
   "metadata": {},
   "outputs": [],
   "source": [
    "predictions.to_csv('dataset/matchingxaa.csv')"
   ]
  },
  {
   "cell_type": "code",
   "execution_count": null,
   "metadata": {},
   "outputs": [],
   "source": [
    "#valid_predictions = model.run_prediction(validation, output_attributes=True)\n",
    "#valid_predictions.head()"
   ]
  }
 ],
 "metadata": {
  "kernelspec": {
   "display_name": "Python 3 (ipykernel)",
   "language": "python",
   "name": "python3"
  },
  "language_info": {
   "codemirror_mode": {
    "name": "ipython",
    "version": 3
   },
   "file_extension": ".py",
   "mimetype": "text/x-python",
   "name": "python",
   "nbconvert_exporter": "python",
   "pygments_lexer": "ipython3",
   "version": "3.9.13"
  }
 },
 "nbformat": 4,
 "nbformat_minor": 1
}
